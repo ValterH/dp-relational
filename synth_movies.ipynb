{
 "cells": [
  {
   "cell_type": "code",
   "execution_count": 1,
   "metadata": {},
   "outputs": [
    {
     "name": "stderr",
     "output_type": "stream",
     "text": [
      "c:\\C\\MIT\\Spring24\\UROP_P2\\code\\code\\dp_relational\\data\\movies.py:5: ParserWarning: Falling back to the 'python' engine because the 'c' engine does not support regex separators (separators > 1 char and different from '\\s+' are interpreted as regex); you can avoid this warning by specifying engine='python'.\n",
      "  movies_df = pd.read_csv(file_path, delimiter='::', header=None, names=['ID', 'Title', 'Genres'], encoding='latin1', index_col=[0])\n",
      "c:\\C\\MIT\\Spring24\\UROP_P2\\code\\code\\dp_relational\\data\\movies.py:37: ParserWarning: Falling back to the 'python' engine because the 'c' engine does not support regex separators (separators > 1 char and different from '\\s+' are interpreted as regex); you can avoid this warning by specifying engine='python'.\n",
      "  users_df = pd.read_csv(file_path, delimiter='::', header=None, names=['ID', 'Gender', \"Age\", \"Occupation\", \"Zipcode\"], encoding='latin1', index_col=[0])\n",
      "c:\\C\\MIT\\Spring24\\UROP_P2\\code\\code\\dp_relational\\data\\movies.py:42: ParserWarning: Falling back to the 'python' engine because the 'c' engine does not support regex separators (separators > 1 char and different from '\\s+' are interpreted as regex); you can avoid this warning by specifying engine='python'.\n",
      "  ratings_df = pd.read_csv(file_path, delimiter='::', header=None, names=[\"UserID\", \"MovieID\", \"Rating\", \"Timestamp\"], encoding='latin1', index_col=[0])\n",
      "c:\\C\\MIT\\Spring24\\UROP_P2\\code\\code\\.venv\\lib\\site-packages\\tqdm\\auto.py:21: TqdmWarning: IProgress not found. Please update jupyter and ipywidgets. See https://ipywidgets.readthedocs.io/en/stable/user_install.html\n",
      "  from .autonotebook import tqdm as notebook_tqdm\n"
     ]
    }
   ],
   "source": [
    "from dp_relational.data.movies import dataset\n",
    "from dp_relational.lib.synth_data import compute_single_table_synth_data, QueryManagerBasic\n",
    "\n",
    "# parameters\n",
    "\n",
    "n_syn1=776\n",
    "n_syn2=1208\n",
    "\n",
    "epsilon=3.0\n",
    "eps1=1.0\n",
    "eps2=1.0\n",
    "eps_rel = epsilon - eps1 - eps2\n",
    "\n",
    "k=2\n",
    "dmax=10 # TODO: kinda urgently, this one is a mess\n",
    "\n",
    "synth='mst'\n",
    "verbose = True"
   ]
  },
  {
   "cell_type": "code",
   "execution_count": 2,
   "metadata": {},
   "outputs": [
    {
     "name": "stderr",
     "output_type": "stream",
     "text": [
      "c:\\C\\MIT\\Spring24\\UROP_P2\\code\\code\\.venv\\lib\\site-packages\\mbi\\__init__.py:15: UserWarning: MixtureInference disabled, please install jax and jaxlib\n",
      "  warnings.warn('MixtureInference disabled, please install jax and jaxlib')\n"
     ]
    },
    {
     "name": "stdout",
     "output_type": "stream",
     "text": [
      "Fitting with 262144 dimensions\n",
      "Getting cliques\n",
      "Estimating marginals\n",
      "Fitting with 294 dimensions\n",
      "Getting cliques\n",
      "Estimating marginals\n"
     ]
    }
   ],
   "source": [
    "rel_dataset = dataset\n",
    "df1_synth = compute_single_table_synth_data(rel_dataset.table1.df, n_syn1, synth, epsilon=eps1)\n",
    "df2_synth = compute_single_table_synth_data(rel_dataset.table2.df, n_syn2, synth, epsilon=eps2)\n",
    "\n",
    "df_rel = rel_dataset.df_rel"
   ]
  },
  {
   "cell_type": "code",
   "execution_count": 3,
   "metadata": {},
   "outputs": [
    {
     "name": "stderr",
     "output_type": "stream",
     "text": [
      "100%|██████████| 1208/1208 [00:41<00:00, 28.94it/s]\n"
     ]
    }
   ],
   "source": [
    "qm = QueryManagerBasic(rel_dataset, k=k, df1_synth=df1_synth, df2_synth=df2_synth)"
   ]
  },
  {
   "cell_type": "code",
   "execution_count": 6,
   "metadata": {},
   "outputs": [
    {
     "name": "stderr",
     "output_type": "stream",
     "text": [
      "100%|██████████| 5/5 [03:38<00:00, 43.74s/it]\n"
     ]
    }
   ],
   "source": [
    "from dp_relational.lib.synth_data import learn_relationship_vector_basic\n",
    "T = 5\n",
    "b_round = learn_relationship_vector_basic(qm, eps_rel, T=T, verbose=verbose)"
   ]
  },
  {
   "cell_type": "code",
   "execution_count": 8,
   "metadata": {},
   "outputs": [],
   "source": [
    "from dp_relational.lib.synth_data import make_synthetic_rel_table\n",
    "relationship_syn = make_synthetic_rel_table(qm, b_round)"
   ]
  },
  {
   "cell_type": "code",
   "execution_count": 20,
   "metadata": {},
   "outputs": [],
   "source": [
    "import dp_relational.lib.synth_data\n",
    "import importlib\n",
    "importlib.reload(dp_relational.lib.synth_data)\n",
    "ave_error, max_error = dp_relational.lib.synth_data.evaluate_synthetic_rel_table(qm, relationship_syn)"
   ]
  },
  {
   "cell_type": "code",
   "execution_count": 21,
   "metadata": {},
   "outputs": [
    {
     "data": {
      "text/plain": [
       "(1.5577875558527128, 17.216186446733904)"
      ]
     },
     "execution_count": 21,
     "metadata": {},
     "output_type": "execute_result"
    }
   ],
   "source": [
    "ave_error, max_error"
   ]
  },
  {
   "cell_type": "code",
   "execution_count": 22,
   "metadata": {},
   "outputs": [
    {
     "data": {
      "text/plain": [
       "4.660236497870907"
      ]
     },
     "execution_count": 22,
     "metadata": {},
     "output_type": "execute_result"
    }
   ],
   "source": [
    "import numpy as np\n",
    "100 * np.sum(np.abs(qm.rand_ans - qm.true_ans)) / len(qm.true_ans)"
   ]
  },
  {
   "cell_type": "code",
   "execution_count": 23,
   "metadata": {},
   "outputs": [
    {
     "name": "stdout",
     "output_type": "stream",
     "text": [
      "{(('is_Action',), ('Gender',)): {'dim_1': [2], 'dim_2': [2], 'range_low': 0, 'range_high': 3}, (('is_Action',), ('Age',)): {'dim_1': [2], 'dim_2': [7], 'range_low': 4, 'range_high': 17}, (('is_Action',), ('Occupation',)): {'dim_1': [2], 'dim_2': [21], 'range_low': 18, 'range_high': 59}, (('is_Adventure',), ('Gender',)): {'dim_1': [2], 'dim_2': [2], 'range_low': 60, 'range_high': 63}, (('is_Adventure',), ('Age',)): {'dim_1': [2], 'dim_2': [7], 'range_low': 64, 'range_high': 77}, (('is_Adventure',), ('Occupation',)): {'dim_1': [2], 'dim_2': [21], 'range_low': 78, 'range_high': 119}, (('is_Animation',), ('Gender',)): {'dim_1': [2], 'dim_2': [2], 'range_low': 120, 'range_high': 123}, (('is_Animation',), ('Age',)): {'dim_1': [2], 'dim_2': [7], 'range_low': 124, 'range_high': 137}, (('is_Animation',), ('Occupation',)): {'dim_1': [2], 'dim_2': [21], 'range_low': 138, 'range_high': 179}, ((\"is_Children's\",), ('Gender',)): {'dim_1': [2], 'dim_2': [2], 'range_low': 180, 'range_high': 183}, ((\"is_Children's\",), ('Age',)): {'dim_1': [2], 'dim_2': [7], 'range_low': 184, 'range_high': 197}, ((\"is_Children's\",), ('Occupation',)): {'dim_1': [2], 'dim_2': [21], 'range_low': 198, 'range_high': 239}, (('is_Comedy',), ('Gender',)): {'dim_1': [2], 'dim_2': [2], 'range_low': 240, 'range_high': 243}, (('is_Comedy',), ('Age',)): {'dim_1': [2], 'dim_2': [7], 'range_low': 244, 'range_high': 257}, (('is_Comedy',), ('Occupation',)): {'dim_1': [2], 'dim_2': [21], 'range_low': 258, 'range_high': 299}, (('is_Crime',), ('Gender',)): {'dim_1': [2], 'dim_2': [2], 'range_low': 300, 'range_high': 303}, (('is_Crime',), ('Age',)): {'dim_1': [2], 'dim_2': [7], 'range_low': 304, 'range_high': 317}, (('is_Crime',), ('Occupation',)): {'dim_1': [2], 'dim_2': [21], 'range_low': 318, 'range_high': 359}, (('is_Documentary',), ('Gender',)): {'dim_1': [2], 'dim_2': [2], 'range_low': 360, 'range_high': 363}, (('is_Documentary',), ('Age',)): {'dim_1': [2], 'dim_2': [7], 'range_low': 364, 'range_high': 377}, (('is_Documentary',), ('Occupation',)): {'dim_1': [2], 'dim_2': [21], 'range_low': 378, 'range_high': 419}, (('is_Drama',), ('Gender',)): {'dim_1': [2], 'dim_2': [2], 'range_low': 420, 'range_high': 423}, (('is_Drama',), ('Age',)): {'dim_1': [2], 'dim_2': [7], 'range_low': 424, 'range_high': 437}, (('is_Drama',), ('Occupation',)): {'dim_1': [2], 'dim_2': [21], 'range_low': 438, 'range_high': 479}, (('is_Fantasy',), ('Gender',)): {'dim_1': [2], 'dim_2': [2], 'range_low': 480, 'range_high': 483}, (('is_Fantasy',), ('Age',)): {'dim_1': [2], 'dim_2': [7], 'range_low': 484, 'range_high': 497}, (('is_Fantasy',), ('Occupation',)): {'dim_1': [2], 'dim_2': [21], 'range_low': 498, 'range_high': 539}, (('is_Film-Noir',), ('Gender',)): {'dim_1': [2], 'dim_2': [2], 'range_low': 540, 'range_high': 543}, (('is_Film-Noir',), ('Age',)): {'dim_1': [2], 'dim_2': [7], 'range_low': 544, 'range_high': 557}, (('is_Film-Noir',), ('Occupation',)): {'dim_1': [2], 'dim_2': [21], 'range_low': 558, 'range_high': 599}, (('is_Horror',), ('Gender',)): {'dim_1': [2], 'dim_2': [2], 'range_low': 600, 'range_high': 603}, (('is_Horror',), ('Age',)): {'dim_1': [2], 'dim_2': [7], 'range_low': 604, 'range_high': 617}, (('is_Horror',), ('Occupation',)): {'dim_1': [2], 'dim_2': [21], 'range_low': 618, 'range_high': 659}, (('is_Musical',), ('Gender',)): {'dim_1': [2], 'dim_2': [2], 'range_low': 660, 'range_high': 663}, (('is_Musical',), ('Age',)): {'dim_1': [2], 'dim_2': [7], 'range_low': 664, 'range_high': 677}, (('is_Musical',), ('Occupation',)): {'dim_1': [2], 'dim_2': [21], 'range_low': 678, 'range_high': 719}, (('is_Mystery',), ('Gender',)): {'dim_1': [2], 'dim_2': [2], 'range_low': 720, 'range_high': 723}, (('is_Mystery',), ('Age',)): {'dim_1': [2], 'dim_2': [7], 'range_low': 724, 'range_high': 737}, (('is_Mystery',), ('Occupation',)): {'dim_1': [2], 'dim_2': [21], 'range_low': 738, 'range_high': 779}, (('is_Romance',), ('Gender',)): {'dim_1': [2], 'dim_2': [2], 'range_low': 780, 'range_high': 783}, (('is_Romance',), ('Age',)): {'dim_1': [2], 'dim_2': [7], 'range_low': 784, 'range_high': 797}, (('is_Romance',), ('Occupation',)): {'dim_1': [2], 'dim_2': [21], 'range_low': 798, 'range_high': 839}, (('is_Sci-Fi',), ('Gender',)): {'dim_1': [2], 'dim_2': [2], 'range_low': 840, 'range_high': 843}, (('is_Sci-Fi',), ('Age',)): {'dim_1': [2], 'dim_2': [7], 'range_low': 844, 'range_high': 857}, (('is_Sci-Fi',), ('Occupation',)): {'dim_1': [2], 'dim_2': [21], 'range_low': 858, 'range_high': 899}, (('is_Thriller',), ('Gender',)): {'dim_1': [2], 'dim_2': [2], 'range_low': 900, 'range_high': 903}, (('is_Thriller',), ('Age',)): {'dim_1': [2], 'dim_2': [7], 'range_low': 904, 'range_high': 917}, (('is_Thriller',), ('Occupation',)): {'dim_1': [2], 'dim_2': [21], 'range_low': 918, 'range_high': 959}, (('is_War',), ('Gender',)): {'dim_1': [2], 'dim_2': [2], 'range_low': 960, 'range_high': 963}, (('is_War',), ('Age',)): {'dim_1': [2], 'dim_2': [7], 'range_low': 964, 'range_high': 977}, (('is_War',), ('Occupation',)): {'dim_1': [2], 'dim_2': [21], 'range_low': 978, 'range_high': 1019}, (('is_Western',), ('Gender',)): {'dim_1': [2], 'dim_2': [2], 'range_low': 1020, 'range_high': 1023}, (('is_Western',), ('Age',)): {'dim_1': [2], 'dim_2': [7], 'range_low': 1024, 'range_high': 1037}, (('is_Western',), ('Occupation',)): {'dim_1': [2], 'dim_2': [21], 'range_low': 1038, 'range_high': 1079}}\n"
     ]
    }
   ],
   "source": [
    "print(qm.workload_dict)"
   ]
  },
  {
   "cell_type": "code",
   "execution_count": 27,
   "metadata": {},
   "outputs": [],
   "source": [
    "import importlib\n",
    "importlib.reload(dp_relational.lib.synth_data)\n",
    "qm_torch = dp_relational.lib.synth_data.QueryManagerTorch(rel_dataset, k=k,\n",
    "                                df1_synth=df1_synth, df2_synth=df2_synth, verbose=verbose)"
   ]
  },
  {
   "cell_type": "code",
   "execution_count": 42,
   "metadata": {},
   "outputs": [],
   "source": [
    "import sys\n",
    "import importlib\n",
    "all_modules = list(sys.modules.values())\n",
    "for module in all_modules:\n",
    "    print(module)\n",
    "    try:\n",
    "        importlib.reload(module)\n",
    "    except:\n",
    "        pass"
   ]
  },
  {
   "cell_type": "code",
   "execution_count": 43,
   "metadata": {},
   "outputs": [
    {
     "name": "stderr",
     "output_type": "stream",
     "text": [
      "  0%|          | 0/5 [00:00<?, ?it/s]\n"
     ]
    },
    {
     "name": "stdout",
     "output_type": "stream",
     "text": [
      "is_Comedy    0\n",
      "Name: 0, dtype: int64\n",
      "Occupation    4\n",
      "Name: 0, dtype: int64\n"
     ]
    },
    {
     "ename": "AssertionError",
     "evalue": "",
     "output_type": "error",
     "traceback": [
      "\u001b[1;31m---------------------------------------------------------------------------\u001b[0m",
      "\u001b[1;31mAssertionError\u001b[0m                            Traceback (most recent call last)",
      "Cell \u001b[1;32mIn[43], line 2\u001b[0m\n\u001b[0;32m      1\u001b[0m T \u001b[38;5;241m=\u001b[39m \u001b[38;5;241m5\u001b[39m\n\u001b[1;32m----> 2\u001b[0m b_round \u001b[38;5;241m=\u001b[39m \u001b[43mdp_relational\u001b[49m\u001b[38;5;241;43m.\u001b[39;49m\u001b[43mlib\u001b[49m\u001b[38;5;241;43m.\u001b[39;49m\u001b[43msynth_data\u001b[49m\u001b[38;5;241;43m.\u001b[39;49m\u001b[43mlearn_relationship_vector_torch\u001b[49m\u001b[43m(\u001b[49m\n\u001b[0;32m      3\u001b[0m \u001b[43m    \u001b[49m\u001b[43mqm_torch\u001b[49m\u001b[43m,\u001b[49m\u001b[43m \u001b[49m\u001b[43meps_rel\u001b[49m\u001b[43m,\u001b[49m\u001b[43m \u001b[49m\u001b[43mT\u001b[49m\u001b[38;5;241;43m=\u001b[39;49m\u001b[43mT\u001b[49m\u001b[43m,\u001b[49m\u001b[43m \u001b[49m\u001b[43mverbose\u001b[49m\u001b[38;5;241;43m=\u001b[39;49m\u001b[43mverbose\u001b[49m\u001b[43m)\u001b[49m\n",
      "File \u001b[1;32mc:\\C\\MIT\\Spring24\\UROP_P2\\code\\code\\.venv\\lib\\site-packages\\torch\\autograd\\grad_mode.py:27\u001b[0m, in \u001b[0;36m_DecoratorContextManager.__call__.<locals>.decorate_context\u001b[1;34m(*args, **kwargs)\u001b[0m\n\u001b[0;32m     24\u001b[0m \u001b[38;5;129m@functools\u001b[39m\u001b[38;5;241m.\u001b[39mwraps(func)\n\u001b[0;32m     25\u001b[0m \u001b[38;5;28;01mdef\u001b[39;00m \u001b[38;5;21mdecorate_context\u001b[39m(\u001b[38;5;241m*\u001b[39margs, \u001b[38;5;241m*\u001b[39m\u001b[38;5;241m*\u001b[39mkwargs):\n\u001b[0;32m     26\u001b[0m     \u001b[38;5;28;01mwith\u001b[39;00m \u001b[38;5;28mself\u001b[39m\u001b[38;5;241m.\u001b[39mclone():\n\u001b[1;32m---> 27\u001b[0m         \u001b[38;5;28;01mreturn\u001b[39;00m \u001b[43mfunc\u001b[49m\u001b[43m(\u001b[49m\u001b[38;5;241;43m*\u001b[39;49m\u001b[43margs\u001b[49m\u001b[43m,\u001b[49m\u001b[43m \u001b[49m\u001b[38;5;241;43m*\u001b[39;49m\u001b[38;5;241;43m*\u001b[39;49m\u001b[43mkwargs\u001b[49m\u001b[43m)\u001b[49m\n",
      "File \u001b[1;32mc:\\C\\MIT\\Spring24\\UROP_P2\\code\\code\\dp_relational\\lib\\synth_data.py:539\u001b[0m, in \u001b[0;36mlearn_relationship_vector_torch\u001b[1;34m(qm, epsilon_relationship, T, delta_relationship, verbose, device)\u001b[0m\n\u001b[0;32m    535\u001b[0m \u001b[38;5;28;01mfor\u001b[39;00m i \u001b[38;5;129;01min\u001b[39;00m select_workload:\n\u001b[0;32m    537\u001b[0m     curr_workload \u001b[38;5;241m=\u001b[39m qm\u001b[38;5;241m.\u001b[39mworkload_names[i]\n\u001b[1;32m--> 539\u001b[0m     curr_Qmat, curr_true_answer \u001b[38;5;241m=\u001b[39m \u001b[43mqm\u001b[49m\u001b[38;5;241;43m.\u001b[39;49m\u001b[43mget_query_mat_full_table\u001b[49m\u001b[43m(\u001b[49m\u001b[43mcurr_workload\u001b[49m\u001b[43m)\u001b[49m\n\u001b[0;32m    541\u001b[0m     noisy_curr_ans \u001b[38;5;241m=\u001b[39m GM(curr_true_answer, per_round_rho_rel)\n\u001b[0;32m    543\u001b[0m     noisy_ans \u001b[38;5;241m=\u001b[39m torch\u001b[38;5;241m.\u001b[39mcat([noisy_ans, noisy_curr_ans])\n",
      "File \u001b[1;32mc:\\C\\MIT\\Spring24\\UROP_P2\\code\\code\\dp_relational\\lib\\synth_data.py:337\u001b[0m, in \u001b[0;36mQueryManagerTorch.get_query_mat_full_table\u001b[1;34m(self, workload)\u001b[0m\n\u001b[0;32m    335\u001b[0m         \u001b[38;5;28mprint\u001b[39m(row_t2)\n\u001b[0;32m    336\u001b[0m         \u001b[38;5;66;03m# find the value index of this one\u001b[39;00m\n\u001b[1;32m--> 337\u001b[0m         val_index \u001b[38;5;241m=\u001b[39m \u001b[38;5;28;43mself\u001b[39;49m\u001b[38;5;241;43m.\u001b[39;49m\u001b[43mquery_ind\u001b[49m\u001b[43m(\u001b[49m\u001b[43mworkload\u001b[49m\u001b[43m,\u001b[49m\u001b[43m \u001b[49m\u001b[43m(\u001b[49m\u001b[43mrow_t1\u001b[49m\u001b[43m,\u001b[49m\u001b[43m \u001b[49m\u001b[43mrow_t2\u001b[49m\u001b[43m)\u001b[49m\u001b[43m,\u001b[49m\u001b[43m \u001b[49m\u001b[43mzero_index\u001b[49m\u001b[38;5;241;43m=\u001b[39;49m\u001b[38;5;28;43;01mTrue\u001b[39;49;00m\u001b[43m)\u001b[49m\n\u001b[0;32m    338\u001b[0m         query_mat[val_index, x \u001b[38;5;241m+\u001b[39m (y \u001b[38;5;241m*\u001b[39m \u001b[38;5;28mself\u001b[39m\u001b[38;5;241m.\u001b[39mn_syn1)] \u001b[38;5;241m=\u001b[39m \u001b[38;5;241m1\u001b[39m\n\u001b[0;32m    339\u001b[0m \u001b[38;5;28mprint\u001b[39m(torch\u001b[38;5;241m.\u001b[39msum(query_mat))\n",
      "File \u001b[1;32mc:\\C\\MIT\\Spring24\\UROP_P2\\code\\code\\dp_relational\\lib\\synth_data.py:173\u001b[0m, in \u001b[0;36mQueryManager.query_ind\u001b[1;34m(self, workload, val, zero_index)\u001b[0m\n\u001b[0;32m    170\u001b[0m     q_ind \u001b[38;5;241m+\u001b[39m\u001b[38;5;241m=\u001b[39m total_dim \u001b[38;5;241m*\u001b[39m total_val[i]\n\u001b[0;32m    172\u001b[0m \u001b[38;5;28;01massert\u001b[39;00m total_dim \u001b[38;5;241m==\u001b[39m \u001b[38;5;241m1\u001b[39m\n\u001b[1;32m--> 173\u001b[0m \u001b[38;5;28;01massert\u001b[39;00m q_ind \u001b[38;5;241m<\u001b[39m\u001b[38;5;241m=\u001b[39m \u001b[38;5;28mself\u001b[39m\u001b[38;5;241m.\u001b[39mworkload_dict[workload][\u001b[38;5;124m'\u001b[39m\u001b[38;5;124mrange_high\u001b[39m\u001b[38;5;124m'\u001b[39m]\n\u001b[0;32m    175\u001b[0m \u001b[38;5;28;01mif\u001b[39;00m zero_index:\n\u001b[0;32m    176\u001b[0m     q_ind \u001b[38;5;241m-\u001b[39m\u001b[38;5;241m=\u001b[39m \u001b[38;5;28mself\u001b[39m\u001b[38;5;241m.\u001b[39mworkload_dict[workload][\u001b[38;5;124m'\u001b[39m\u001b[38;5;124mrange_low\u001b[39m\u001b[38;5;124m'\u001b[39m]\n",
      "\u001b[1;31mAssertionError\u001b[0m: "
     ]
    }
   ],
   "source": [
    "T = 5\n",
    "b_round = (\n",
    "    qm_torch, eps_rel, T=T, verbose=verbose)"
   ]
  }
 ],
 "metadata": {
  "kernelspec": {
   "display_name": ".venv",
   "language": "python",
   "name": "python3"
  },
  "language_info": {
   "codemirror_mode": {
    "name": "ipython",
    "version": 3
   },
   "file_extension": ".py",
   "mimetype": "text/x-python",
   "name": "python",
   "nbconvert_exporter": "python",
   "pygments_lexer": "ipython3",
   "version": "3.8.0"
  }
 },
 "nbformat": 4,
 "nbformat_minor": 2
}
