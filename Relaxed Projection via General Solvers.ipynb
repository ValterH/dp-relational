{
 "cells": [
  {
   "cell_type": "code",
   "execution_count": 1,
   "id": "9c639d87",
   "metadata": {},
   "outputs": [
    {
     "name": "stdout",
     "output_type": "stream",
     "text": [
      "Channels:\n",
      " - mosek\n",
      " - defaults\n",
      "Platform: osx-64\n",
      "Collecting package metadata (repodata.json): done\n",
      "Solving environment: done\n",
      "\n",
      "## Package Plan ##\n",
      "\n",
      "  environment location: /Users/alim/opt/anaconda3\n",
      "\n",
      "  added / updated specs:\n",
      "    - mosek\n",
      "\n",
      "\n",
      "The following packages will be downloaded:\n",
      "\n",
      "    package                    |            build\n",
      "    ---------------------------|-----------------\n",
      "    mosek-10.1.29              |           py39_0        12.5 MB  mosek\n",
      "    openssl-3.0.13             |       hca72f7f_1         4.6 MB\n",
      "    ------------------------------------------------------------\n",
      "                                           Total:        17.1 MB\n",
      "\n",
      "The following NEW packages will be INSTALLED:\n",
      "\n",
      "  mosek              mosek/osx-64::mosek-10.1.29-py39_0 \n",
      "\n",
      "The following packages will be UPDATED:\n",
      "\n",
      "  openssl                                 3.0.13-hca72f7f_0 --> 3.0.13-hca72f7f_1 \n",
      "\n",
      "\n",
      "\n",
      "Downloading and Extracting Packages:\n",
      "mosek-10.1.29        | 12.5 MB   |                                       |   0% \n",
      "openssl-3.0.13       | 4.6 MB    |                                       |   0% \u001b[A\n",
      "openssl-3.0.13       | 4.6 MB    | 1                                     |   0% \u001b[A\n",
      "openssl-3.0.13       | 4.6 MB    | ################8                     |  45% \u001b[A\n",
      "openssl-3.0.13       | 4.6 MB    | #################################1    |  90% \u001b[A\n",
      "                                                                                \u001b[A\n",
      "                                                                                \u001b[A\n",
      "Preparing transaction: done\n",
      "Verifying transaction: done\n",
      "Executing transaction: done\n",
      "\n",
      "Note: you may need to restart the kernel to use updated packages.\n"
     ]
    }
   ],
   "source": [
    "conda install -c mosek mosek"
   ]
  },
  {
   "cell_type": "markdown",
   "id": "b4cf6566",
   "metadata": {},
   "source": [
    "## you need to get MOSEK academic license as well"
   ]
  },
  {
   "cell_type": "markdown",
   "id": "d7bf0159",
   "metadata": {},
   "source": [
    "### Hello World!"
   ]
  },
  {
   "cell_type": "code",
   "execution_count": 9,
   "id": "a3ae613e",
   "metadata": {},
   "outputs": [
    {
     "name": "stdout",
     "output_type": "stream",
     "text": [
      "Solution x = 2.0\n"
     ]
    }
   ],
   "source": [
    "from mosek import *\n",
    "\n",
    "with Env() as env:                            # Create Environment\n",
    "    with env.Task(0, 1) as task:                # Create Task\n",
    "        task.appendvars(1)                          # 1 variable x\n",
    "        task.putcj(0, 1.0)                          # c_0 = 1.0\n",
    "        task.putvarbound(0, boundkey.ra, 2.0, 3.0)  # 2.0 <= x <= 3.0\n",
    "        task.putobjsense(objsense.minimize)         # minimize\n",
    "\n",
    "        task.optimize()                           # Optimize\n",
    "\n",
    "        x = task.getxx(soltype.itr)               # Get solution\n",
    "        print(\"Solution x = {}\".format(x[0]))     # Print solution"
   ]
  },
  {
   "cell_type": "markdown",
   "id": "b40339b3",
   "metadata": {},
   "source": [
    "### Least Squares"
   ]
  },
  {
   "cell_type": "code",
   "execution_count": 28,
   "id": "7a25749d",
   "metadata": {},
   "outputs": [],
   "source": [
    "from mosek.fusion import *\n",
    "def ls(Q, a):\n",
    "    d, N = len(Q), len(Q[0])\n",
    "    M = Model(\"LS\")\n",
    "    \n",
    "    # The regression coefficients\n",
    "    b = M.variable(\"b\", N)\n",
    "    \n",
    "    # The bound on the norm of the residual\n",
    "    e = M.variable(\"e\")\n",
    "    r = Expr.sub(a, Expr.mul(Q,b))\n",
    "    # t \\geq |r|_2\n",
    "    M.constraint(Expr.vstack(e, r), Domain.inQCone())\n",
    "\n",
    "    M.objective(ObjectiveSense.Minimize, e)\n",
    "    M.solve()\n",
    "    return M.getVariable(\"b\").level(), M.getVariable(\"e\").level()"
   ]
  },
  {
   "cell_type": "code",
   "execution_count": 29,
   "id": "5c46c6da",
   "metadata": {},
   "outputs": [
    {
     "name": "stdout",
     "output_type": "stream",
     "text": [
      "2.07581180740439e-12 1.907936796008495e-14 2.258186855872398e-14\n"
     ]
    }
   ],
   "source": [
    "import numpy as np\n",
    "d = 100\n",
    "N = 10000\n",
    "m = 10\n",
    "Q = np.random.rand(d, N)\n",
    "#b_s=np.random.rand(N)\n",
    "#b_s=b_s/sum(b_s)*m\n",
    "a = np.random.rand(d)\n",
    "b, e = ls(Q, a)\n",
    "b_ols = np.linalg.lstsq(Q, a, rcond=None)[0]\n",
    "print(np.linalg.norm(Q@b-a), np.linalg.norm(Q@b_ols-a), np.linalg.norm(b-b_ols))"
   ]
  },
  {
   "cell_type": "markdown",
   "id": "5d9c6f12",
   "metadata": {},
   "source": [
    "### Box-bound Least Squares"
   ]
  },
  {
   "cell_type": "code",
   "execution_count": 30,
   "id": "9da0e456",
   "metadata": {},
   "outputs": [],
   "source": [
    "def bblse(Q, a):\n",
    "    d, N = len(Q), len(Q[0])\n",
    "    M = Model(\"BBLS\")\n",
    "    \n",
    "    b = M.variable(\"b\", N, Domain.inRange(0.0, 1.0))\n",
    "    \n",
    "    # The bound on the norm of the residual\n",
    "    e = M.variable(\"e\")\n",
    "    r = Expr.sub(a, Expr.mul(Q,b))\n",
    "    # t \\geq |r|_2\n",
    "    M.constraint(Expr.vstack(e, r), Domain.inQCone())\n",
    "\n",
    "    M.objective(ObjectiveSense.Minimize, e)\n",
    "    M.solve()\n",
    "    return M.getVariable(\"b\").level(), M.getVariable(\"e\").level()"
   ]
  },
  {
   "cell_type": "code",
   "execution_count": 31,
   "id": "1d2fa232",
   "metadata": {},
   "outputs": [
    {
     "name": "stdout",
     "output_type": "stream",
     "text": [
      "2.0262730608791713 1.7065280454524817e-14 0.2653180040780938\n",
      "0.11677914410876125 -1.6606705293254554e-09\n"
     ]
    }
   ],
   "source": [
    "import numpy as np\n",
    "d = 100\n",
    "N = 10000\n",
    "m = 10\n",
    "Q = np.random.rand(d, N)\n",
    "a = np.random.rand(d)\n",
    "b, e = bblse(Q, a)\n",
    "b_ols = np.linalg.lstsq(Q, a, rcond=None)[0]\n",
    "print(np.linalg.norm(Q@b-a), np.linalg.norm(Q@b_ols-a), np.linalg.norm(b-b_ols))\n",
    "print(max(b), min(b))"
   ]
  },
  {
   "cell_type": "code",
   "execution_count": 32,
   "id": "acdd4521",
   "metadata": {},
   "outputs": [],
   "source": [
    "def sls(Q, a, m):\n",
    "    d, N = len(Q), len(Q[0])\n",
    "    M = Model(\"SLS\")\n",
    "    \n",
    "    b = M.variable(\"b\", N)\n",
    "    \n",
    "    # The bound on the norm of the residual\n",
    "    e = M.variable(\"e\")\n",
    "    r = Expr.sub(a, Expr.mul(Q,b))\n",
    "    # t \\geq |r|_2\n",
    "    M.constraint(Expr.vstack(e, r), Domain.inQCone())\n",
    "    M.constraint(Expr.sum(b), Domain.equalsTo(m))\n",
    "\n",
    "    M.objective(ObjectiveSense.Minimize, e)\n",
    "    M.solve()\n",
    "    return M.getVariable(\"b\").level(), M.getVariable(\"e\").level()"
   ]
  },
  {
   "cell_type": "code",
   "execution_count": 33,
   "id": "46c07eda",
   "metadata": {},
   "outputs": [
    {
     "name": "stdout",
     "output_type": "stream",
     "text": [
      "4.200527064686183e-12 6.049226442732378e-14 1.5460925782329118\n",
      "10.000000000002549\n"
     ]
    }
   ],
   "source": [
    "import numpy as np\n",
    "d = 100\n",
    "N = 10000\n",
    "m = 10\n",
    "Q = np.random.rand(d, N)\n",
    "a = np.random.rand(d)\n",
    "b, e = sls(Q, a, m)\n",
    "b_ols = np.linalg.lstsq(Q, a, rcond=None)[0]\n",
    "print(np.linalg.norm(Q@b-a), np.linalg.norm(Q@b_ols-a), np.linalg.norm(b-b_ols))\n",
    "print(sum(b))"
   ]
  },
  {
   "cell_type": "markdown",
   "id": "e40f5e04",
   "metadata": {},
   "source": [
    "### box-bounded + sum = m least squares"
   ]
  },
  {
   "cell_type": "code",
   "execution_count": 34,
   "id": "cc0c6e9d",
   "metadata": {},
   "outputs": [],
   "source": [
    "from mosek.fusion import *\n",
    "def bbsls(Q, a, m):\n",
    "    d, N = len(Q), len(Q[0])\n",
    "    M = Model(\"BBSLS\")\n",
    "    \n",
    "    b = M.variable(\"b\", N, Domain.inRange(0.0, 1.0))\n",
    "    \n",
    "    # The bound on the norm of the residual\n",
    "    e = M.variable(\"e\")\n",
    "    r = Expr.sub(a, Expr.mul(Q,b))\n",
    "    # t \\geq |r|_2\n",
    "    M.constraint(Expr.vstack(e, r), Domain.inQCone())\n",
    "    M.constraint(Expr.sum(b), Domain.equalsTo(m))\n",
    "    \n",
    "    M.objective(ObjectiveSense.Minimize, e)\n",
    "    M.solve()\n",
    "    return M.getVariable(\"b\").level(), M.getVariable(\"e\").level()"
   ]
  },
  {
   "cell_type": "code",
   "execution_count": 35,
   "id": "ab95fe95",
   "metadata": {},
   "outputs": [
    {
     "name": "stdout",
     "output_type": "stream",
     "text": [
      "36.443479009606314 1.5009881704595304e-14 2.7512640660364207\n",
      "9.999999997270857 0.9999999996387944 -1.4912498817603304e-10\n"
     ]
    }
   ],
   "source": [
    "import numpy as np\n",
    "d = 100\n",
    "N = 10000\n",
    "m = 10\n",
    "Q = np.random.rand(d, N)\n",
    "a = np.random.rand(d)\n",
    "b, e = bbsls(Q, a, m)\n",
    "b_ols = np.linalg.lstsq(Q, a, rcond=None)[0]\n",
    "print(np.linalg.norm(Q@b-a), np.linalg.norm(Q@b_ols-a), np.linalg.norm(b-b_ols))\n",
    "print(sum(b), max(b), min(b))"
   ]
  }
 ],
 "metadata": {
  "kernelspec": {
   "display_name": "Python 3 (ipykernel)",
   "language": "python",
   "name": "python3"
  },
  "language_info": {
   "codemirror_mode": {
    "name": "ipython",
    "version": 3
   },
   "file_extension": ".py",
   "mimetype": "text/x-python",
   "name": "python",
   "nbconvert_exporter": "python",
   "pygments_lexer": "ipython3",
   "version": "3.9.19"
  }
 },
 "nbformat": 4,
 "nbformat_minor": 5
}
