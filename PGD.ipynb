{
 "cells": [
  {
   "cell_type": "code",
   "execution_count": 1,
   "id": "264362af-fb2a-4f67-a441-88c75f15575f",
   "metadata": {},
   "outputs": [],
   "source": [
    "import torch\n",
    "import pickle\n",
    "\n",
    "def load_tensor(i):\n",
    "    \n",
    "    # Path to the downloaded .pkl file\n",
    "    file_path = 'tensor'+str(i)+'.pkl'\n",
    "    \n",
    "    # Load the tensor from the .pkl file\n",
    "    with open(file_path, 'rb') as f:\n",
    "        tensor = pickle.load(f)\n",
    "    \n",
    "    file_path = 'vector'+str(i)+'.pkl'\n",
    "    \n",
    "    # Load the tensor from the .pkl file\n",
    "    with open(file_path, 'rb') as f:\n",
    "        vector = pickle.load(f).to('cuda')\n",
    "    return tensor, vector"
   ]
  },
  {
   "cell_type": "code",
   "execution_count": 2,
   "id": "b9d14184-5e94-4ce7-a290-45fb968322ef",
   "metadata": {},
   "outputs": [],
   "source": [
    "def gradient(Q, b, a, m):\n",
    "\n",
    "    c = Q @ b / m ## \n",
    "    g = Q.T @ (c - a) * 2 / m\n",
    "\n",
    "    return g"
   ]
  },
  {
   "cell_type": "code",
   "execution_count": 3,
   "id": "e7f17998-d975-4d48-8c10-875e014964cd",
   "metadata": {},
   "outputs": [],
   "source": [
    "import numpy as np\n",
    "def optimal_project_to_simplex(b, m):\n",
    "    # Step 1: Clip the vector to ensure it is between 0 and 1\n",
    "    b = np.clip(b, 0, 1)\n",
    "    \n",
    "    # Step 2: Check if the sum is greater than m, if so scale it down\n",
    "    sum_b = np.sum(b)\n",
    "    if sum_b > m:\n",
    "        return b * (m / sum_b)\n",
    "        \n",
    "    # Step 3: If the sum is less than m, sort the vector in descending order\n",
    "    sorted_indices = np.argsort(-b)\n",
    "    sorted_b = b[sorted_indices]\n",
    "    \n",
    "    # Step 4: Find the first index i that satisfies the conditions\n",
    "    cumsum_sorted_b = np.cumsum(sorted_b)\n",
    "    N = len(b)\n",
    "    for i in range(N):\n",
    "        if sorted_b[i] > 0 and (m - (i + 1)) / (cumsum_sorted_b[-1] - cumsum_sorted_b[i]) <= 1:\n",
    "            break\n",
    "    \n",
    "    # Step 5: Set v_1, ..., v_i to 1\n",
    "    sorted_b[:i + 1] = 1\n",
    "    \n",
    "    # Step 6: Scale remaining elements\n",
    "    if i + 1 < N:\n",
    "        remaining_sum = np.sum(sorted_b[i + 1:])\n",
    "        if remaining_sum > 0:\n",
    "            scale_factor = (m - (i + 1)) / remaining_sum\n",
    "            sorted_b[i + 1:] *= scale_factor\n",
    "    \n",
    "    # Reorder to the original order\n",
    "    b[sorted_indices] = sorted_b\n",
    "    \n",
    "    return b"
   ]
  },
  {
   "cell_type": "code",
   "execution_count": 4,
   "id": "82f3628f-bda5-49bd-824b-ed0db1c1b79b",
   "metadata": {},
   "outputs": [],
   "source": [
    "import torch\n",
    "\n",
    "def optimal_project_to_simplex_torch(b, m):\n",
    "    # Step 1: Clip the vector to ensure it is between 0 and 1\n",
    "    b = torch.clamp(b, 0, 1)\n",
    "    \n",
    "    # Step 2: Check if the sum is greater than m, if so scale it down\n",
    "    sum_b = torch.sum(b)\n",
    "    if sum_b > m:\n",
    "        return b * (m / sum_b)\n",
    "        \n",
    "    # Step 3: If the sum is less than m, sort the vector in descending order\n",
    "    sorted_b, sorted_indices = torch.sort(b, descending=True)\n",
    "    \n",
    "    # Step 4: Find the first index i that satisfies the conditions\n",
    "    cumsum_sorted_b = torch.cumsum(sorted_b, dim=0)\n",
    "    N = len(b)\n",
    "    for i in range(N):\n",
    "        if sorted_b[i] > 0 and (m - (i + 1)) / (cumsum_sorted_b[-1] - cumsum_sorted_b[i]) <= 1:\n",
    "            break\n",
    "    \n",
    "    # Step 5: Set v_1, ..., v_i to 1\n",
    "    sorted_b[:i + 1] = 1\n",
    "    \n",
    "    # Step 6: Scale remaining elements\n",
    "    if i + 1 < N:\n",
    "        remaining_sum = torch.sum(sorted_b[i + 1:])\n",
    "        if remaining_sum > 0:\n",
    "            scale_factor = (m - (i + 1)) / remaining_sum\n",
    "            sorted_b[i + 1:] *= scale_factor\n",
    "    \n",
    "    # Reorder to the original order\n",
    "    original_b = b.clone()\n",
    "    original_b[sorted_indices] = sorted_b\n",
    "    \n",
    "    return original_b\n"
   ]
  },
  {
   "cell_type": "code",
   "execution_count": 5,
   "id": "09d769ca-7ca6-45b3-8826-9323eece765f",
   "metadata": {},
   "outputs": [],
   "source": [
    "Q, a = load_tensor(1)\n",
    "d, N = Q.shape\n",
    "\n",
    "m = 10000.0\n",
    "#b = torch.ones(Q.shape[1]).to('cuda') / m\n",
    "b = torch.rand(N, device='cuda')\n",
    "\n",
    "#L = N / d * 2 / m**2\n",
    "\n",
    "lr= 1.0\n",
    "\n",
    "T = 1000\n",
    "e = np.zeros(T)\n",
    "\n",
    "for t in range(T):\n",
    "\n",
    "    g = gradient(Q, b, a, m)\n",
    "    b = b - lr * g\n",
    "    b = optimal_project_to_simplex_torch(b, m)\n",
    "    e[t] = torch.norm(1/m * Q @ b - a)"
   ]
  },
  {
   "cell_type": "code",
   "execution_count": 6,
   "id": "609b5e4b-fb4a-46de-8942-dc7ce725015f",
   "metadata": {},
   "outputs": [
    {
     "data": {
      "text/plain": [
       "[<matplotlib.lines.Line2D at 0x7fe1462939a0>]"
      ]
     },
     "execution_count": 6,
     "metadata": {},
     "output_type": "execute_result"
    },
    {
     "data": {
      "image/png": "[encoded data removed]",
      "text/plain": [
       "<Figure size 640x480 with 1 Axes>"
      ]
     },
     "metadata": {},
     "output_type": "display_data"
    }
   ],
   "source": [
    "import matplotlib.pyplot as plt\n",
    "\n",
    "plt.plot(e)"
   ]
  },
  {
   "cell_type": "code",
   "execution_count": 8,
   "id": "93c4fa50-ef74-42be-ba9b-cf6e7f911b70",
   "metadata": {},
   "outputs": [
    {
     "ename": "KeyboardInterrupt",
     "evalue": "",
     "output_type": "error",
     "traceback": [
      "\u001b[0;31m---------------------------------------------------------------------------\u001b[0m",
      "\u001b[0;31mKeyboardInterrupt\u001b[0m                         Traceback (most recent call last)",
      "Cell \u001b[0;32mIn[8], line 27\u001b[0m\n\u001b[1;32m     24\u001b[0m b \u001b[38;5;241m=\u001b[39m optimal_project_to_simplex_torch(b, m)\n\u001b[1;32m     26\u001b[0m \u001b[38;5;28;01mfor\u001b[39;00m i \u001b[38;5;129;01min\u001b[39;00m \u001b[38;5;28mrange\u001b[39m(\u001b[38;5;241m1\u001b[39m, \u001b[38;5;241m4\u001b[39m):\n\u001b[0;32m---> 27\u001b[0m     Q, a \u001b[38;5;241m=\u001b[39m \u001b[43mload_tensor\u001b[49m\u001b[43m(\u001b[49m\u001b[43mi\u001b[49m\u001b[43m)\u001b[49m\n\u001b[1;32m     28\u001b[0m     e[t] \u001b[38;5;241m+\u001b[39m\u001b[38;5;241m=\u001b[39m torch\u001b[38;5;241m.\u001b[39mnorm(\u001b[38;5;241m1\u001b[39m\u001b[38;5;241m/\u001b[39mm \u001b[38;5;241m*\u001b[39m Q \u001b[38;5;241m@\u001b[39m b \u001b[38;5;241m-\u001b[39m a)\n",
      "Cell \u001b[0;32mIn[1], line 11\u001b[0m, in \u001b[0;36mload_tensor\u001b[0;34m(i)\u001b[0m\n\u001b[1;32m      9\u001b[0m \u001b[38;5;66;03m# Load the tensor from the .pkl file\u001b[39;00m\n\u001b[1;32m     10\u001b[0m \u001b[38;5;28;01mwith\u001b[39;00m \u001b[38;5;28mopen\u001b[39m(file_path, \u001b[38;5;124m'\u001b[39m\u001b[38;5;124mrb\u001b[39m\u001b[38;5;124m'\u001b[39m) \u001b[38;5;28;01mas\u001b[39;00m f:\n\u001b[0;32m---> 11\u001b[0m     tensor \u001b[38;5;241m=\u001b[39m \u001b[43mpickle\u001b[49m\u001b[38;5;241;43m.\u001b[39;49m\u001b[43mload\u001b[49m\u001b[43m(\u001b[49m\u001b[43mf\u001b[49m\u001b[43m)\u001b[49m\n\u001b[1;32m     13\u001b[0m file_path \u001b[38;5;241m=\u001b[39m \u001b[38;5;124m'\u001b[39m\u001b[38;5;124mvector\u001b[39m\u001b[38;5;124m'\u001b[39m\u001b[38;5;241m+\u001b[39m\u001b[38;5;28mstr\u001b[39m(i)\u001b[38;5;241m+\u001b[39m\u001b[38;5;124m'\u001b[39m\u001b[38;5;124m.pkl\u001b[39m\u001b[38;5;124m'\u001b[39m\n\u001b[1;32m     15\u001b[0m \u001b[38;5;66;03m# Load the tensor from the .pkl file\u001b[39;00m\n",
      "File \u001b[0;32m~/miniforge3/lib/python3.10/site-packages/torch/storage.py:240\u001b[0m, in \u001b[0;36m_load_from_bytes\u001b[0;34m(b)\u001b[0m\n\u001b[1;32m    239\u001b[0m \u001b[38;5;28;01mdef\u001b[39;00m \u001b[38;5;21m_load_from_bytes\u001b[39m(b):\n\u001b[0;32m--> 240\u001b[0m     \u001b[38;5;28;01mreturn\u001b[39;00m \u001b[43mtorch\u001b[49m\u001b[38;5;241;43m.\u001b[39;49m\u001b[43mload\u001b[49m\u001b[43m(\u001b[49m\u001b[43mio\u001b[49m\u001b[38;5;241;43m.\u001b[39;49m\u001b[43mBytesIO\u001b[49m\u001b[43m(\u001b[49m\u001b[43mb\u001b[49m\u001b[43m)\u001b[49m\u001b[43m)\u001b[49m\n",
      "File \u001b[0;32m~/miniforge3/lib/python3.10/site-packages/torch/serialization.py:795\u001b[0m, in \u001b[0;36mload\u001b[0;34m(f, map_location, pickle_module, weights_only, **pickle_load_args)\u001b[0m\n\u001b[1;32m    793\u001b[0m     \u001b[38;5;28;01mexcept\u001b[39;00m \u001b[38;5;167;01mRuntimeError\u001b[39;00m \u001b[38;5;28;01mas\u001b[39;00m e:\n\u001b[1;32m    794\u001b[0m         \u001b[38;5;28;01mraise\u001b[39;00m pickle\u001b[38;5;241m.\u001b[39mUnpicklingError(UNSAFE_MESSAGE \u001b[38;5;241m+\u001b[39m \u001b[38;5;28mstr\u001b[39m(e)) \u001b[38;5;28;01mfrom\u001b[39;00m \u001b[38;5;28;01mNone\u001b[39;00m\n\u001b[0;32m--> 795\u001b[0m \u001b[38;5;28;01mreturn\u001b[39;00m \u001b[43m_legacy_load\u001b[49m\u001b[43m(\u001b[49m\u001b[43mopened_file\u001b[49m\u001b[43m,\u001b[49m\u001b[43m \u001b[49m\u001b[43mmap_location\u001b[49m\u001b[43m,\u001b[49m\u001b[43m \u001b[49m\u001b[43mpickle_module\u001b[49m\u001b[43m,\u001b[49m\u001b[43m \u001b[49m\u001b[38;5;241;43m*\u001b[39;49m\u001b[38;5;241;43m*\u001b[39;49m\u001b[43mpickle_load_args\u001b[49m\u001b[43m)\u001b[49m\n",
      "File \u001b[0;32m~/miniforge3/lib/python3.10/site-packages/torch/serialization.py:1020\u001b[0m, in \u001b[0;36m_legacy_load\u001b[0;34m(f, map_location, pickle_module, **pickle_load_args)\u001b[0m\n\u001b[1;32m   1018\u001b[0m \u001b[38;5;28;01massert\u001b[39;00m key \u001b[38;5;129;01min\u001b[39;00m deserialized_objects\n\u001b[1;32m   1019\u001b[0m typed_storage \u001b[38;5;241m=\u001b[39m deserialized_objects[key]\n\u001b[0;32m-> 1020\u001b[0m \u001b[43mtyped_storage\u001b[49m\u001b[38;5;241;43m.\u001b[39;49m\u001b[43m_storage\u001b[49m\u001b[38;5;241;43m.\u001b[39;49m\u001b[43m_set_from_file\u001b[49m\u001b[43m(\u001b[49m\n\u001b[1;32m   1021\u001b[0m \u001b[43m    \u001b[49m\u001b[43mf\u001b[49m\u001b[43m,\u001b[49m\u001b[43m \u001b[49m\u001b[43moffset\u001b[49m\u001b[43m,\u001b[49m\u001b[43m \u001b[49m\u001b[43mf_should_read_directly\u001b[49m\u001b[43m,\u001b[49m\n\u001b[1;32m   1022\u001b[0m \u001b[43m    \u001b[49m\u001b[43mtorch\u001b[49m\u001b[38;5;241;43m.\u001b[39;49m\u001b[43m_utils\u001b[49m\u001b[38;5;241;43m.\u001b[39;49m\u001b[43m_element_size\u001b[49m\u001b[43m(\u001b[49m\u001b[43mtyped_storage\u001b[49m\u001b[38;5;241;43m.\u001b[39;49m\u001b[43mdtype\u001b[49m\u001b[43m)\u001b[49m\u001b[43m)\u001b[49m\n\u001b[1;32m   1023\u001b[0m \u001b[38;5;28;01mif\u001b[39;00m offset \u001b[38;5;129;01mis\u001b[39;00m \u001b[38;5;129;01mnot\u001b[39;00m \u001b[38;5;28;01mNone\u001b[39;00m:\n\u001b[1;32m   1024\u001b[0m     offset \u001b[38;5;241m=\u001b[39m f\u001b[38;5;241m.\u001b[39mtell()\n",
      "\u001b[0;31mKeyboardInterrupt\u001b[0m: "
     ]
    }
   ],
   "source": [
    "Q, a = load_tensor(1)\n",
    "d, N = Q.shape\n",
    "\n",
    "m = 10000.0\n",
    "#b = torch.ones(Q.shape[1]).to('cuda') / m\n",
    "b = torch.rand(N, device='cuda')\n",
    "\n",
    "#L = N / d * 2 / m**2\n",
    "\n",
    "lr= 1.0\n",
    "\n",
    "T = 1000\n",
    "e = np.zeros(T)\n",
    "\n",
    "for t in range(T):\n",
    "\n",
    "    g = torch.zeros(N, device='cuda')\n",
    "    \n",
    "    for i in range(1, 4):\n",
    "        Q, a = load_tensor(i)\n",
    "        g += gradient(Q, b, a, m)\n",
    "\n",
    "    b = b - lr * g\n",
    "    b = optimal_project_to_simplex_torch(b, m)\n",
    "    \n",
    "    for i in range(1, 4):\n",
    "        Q, a = load_tensor(i)\n",
    "        e[t] += torch.norm(1/m * Q @ b - a)"
   ]
  },
  {
   "cell_type": "code",
   "execution_count": null,
   "id": "ec5cd37f-abf2-462b-afc1-53579db856ae",
   "metadata": {},
   "outputs": [],
   "source": [
    "import matplotlib.pyplot as plt\n",
    "\n",
    "plt.plot(e)"
   ]
  },
  {
   "cell_type": "code",
   "execution_count": 5,
   "id": "12986a24-28bb-476a-915f-09012005e9cc",
   "metadata": {},
   "outputs": [],
   "source": [
    "Q1, a1 = load_tensor(1)\n",
    "Q2, a2 = load_tensor(2)\n",
    "Q3, a3 = load_tensor(3)"
   ]
  },
  {
   "cell_type": "code",
   "execution_count": 12,
   "id": "5c9d78b8-63f8-4781-8837-8e2b04ecb549",
   "metadata": {},
   "outputs": [],
   "source": [
    "Q = torch.cat([Q1, Q2, Q3], dim = 0)\n",
    "a = torch.cat([a1, a2, a3])"
   ]
  },
  {
   "cell_type": "code",
   "execution_count": 9,
   "id": "088acfdf-c32f-4f57-b761-65668a17a0ee",
   "metadata": {},
   "outputs": [
    {
     "data": {
      "text/plain": [
       "torch.Size([882, 23435200])"
      ]
     },
     "execution_count": 9,
     "metadata": {},
     "output_type": "execute_result"
    }
   ],
   "source": [
    "Q.shape"
   ]
  },
  {
   "cell_type": "code",
   "execution_count": 11,
   "id": "4e1307db-9ec1-4557-9e9e-ccb690285ced",
   "metadata": {},
   "outputs": [
    {
     "data": {
      "text/plain": [
       "True"
      ]
     },
     "execution_count": 11,
     "metadata": {},
     "output_type": "execute_result"
    }
   ],
   "source": [
    "Q.is_sparse"
   ]
  },
  {
   "cell_type": "code",
   "execution_count": 61,
   "id": "5e46728f-d13b-4960-95e8-4d3bff881b3f",
   "metadata": {},
   "outputs": [],
   "source": [
    "d, N = Q.shape\n",
    "\n",
    "m = 10000.0\n",
    "#b = torch.ones(Q.shape[1]).to('cuda') / m\n",
    "b = torch.rand(N, device='cuda')\n",
    "\n",
    "l = largest_singular_value(Q)\n",
    "L = l*l * 2 / (m*m)\n",
    "lr= 1/L\n",
    "\n",
    "T = 100\n",
    "e = np.zeros(T)\n",
    "\n",
    "for t in range(T):\n",
    "\n",
    "    g = gradient(Q, b, a, m)\n",
    "    b = b - lr * g\n",
    "    b = optimal_project_to_simplex_torch(b, m)\n",
    "    e[t] = torch.norm(1/m * Q @ b - a)"
   ]
  },
  {
   "cell_type": "code",
   "execution_count": 62,
   "id": "cf3ca478-b705-4611-8c49-d8a5b8628ea4",
   "metadata": {},
   "outputs": [
    {
     "data": {
      "text/plain": [
       "11.892880845042551"
      ]
     },
     "execution_count": 62,
     "metadata": {},
     "output_type": "execute_result"
    }
   ],
   "source": [
    "lr"
   ]
  },
  {
   "cell_type": "code",
   "execution_count": 63,
   "id": "aa8ece78-47bf-4ac2-b8b2-44836cebff66",
   "metadata": {},
   "outputs": [
    {
     "data": {
      "text/plain": [
       "[<matplotlib.lines.Line2D at 0x7f3086de0760>]"
      ]
     },
     "execution_count": 63,
     "metadata": {},
     "output_type": "execute_result"
    },
    {
     "data": {
      "image/png": "[encoded data removed]",
      "text/plain": [
       "<Figure size 640x480 with 1 Axes>"
      ]
     },
     "metadata": {},
     "output_type": "display_data"
    }
   ],
   "source": [
    "import matplotlib.pyplot as plt\n",
    "\n",
    "plt.grid()\n",
    "plt.plot(e)"
   ]
  },
  {
   "cell_type": "code",
   "execution_count": 17,
   "id": "c31a9f41-dc94-4cf5-8701-2f44c1416aec",
   "metadata": {},
   "outputs": [],
   "source": [
    "d, N = Q.shape\n",
    "\n",
    "m = 10000.0\n",
    "b = torch.ones(Q.shape[1]).to('cuda') / m\n",
    "#b = torch.rand(N, device='cuda')\n",
    "\n",
    "#L = N / d * 2 / m**2\n",
    "\n",
    "lr= 1.0\n",
    "\n",
    "T = 1000\n",
    "e = np.zeros(T)\n",
    "\n",
    "for t in range(T):\n",
    "\n",
    "    g = gradient(Q, b, a, m)\n",
    "    b = b - lr * g\n",
    "    b = optimal_project_to_simplex_torch(b, m)\n",
    "    e[t] = torch.norm(1/m * Q @ b - a)"
   ]
  },
  {
   "cell_type": "code",
   "execution_count": 18,
   "id": "d802292a-b1f1-4ae6-ab1e-0b05009fca3b",
   "metadata": {},
   "outputs": [
    {
     "data": {
      "text/plain": [
       "[<matplotlib.lines.Line2D at 0x7f3088d87700>]"
      ]
     },
     "execution_count": 18,
     "metadata": {},
     "output_type": "execute_result"
    },
    {
     "data": {
      "image/png": "[encoded data removed]",
      "text/plain": [
       "<Figure size 640x480 with 1 Axes>"
      ]
     },
     "metadata": {},
     "output_type": "display_data"
    }
   ],
   "source": [
    "import matplotlib.pyplot as plt\n",
    "\n",
    "plt.grid()\n",
    "plt.plot(e)"
   ]
  },
  {
   "cell_type": "code",
   "execution_count": 28,
   "id": "885b8b4a-ea7a-4b5b-8c97-1f445405950a",
   "metadata": {},
   "outputs": [],
   "source": [
    "A = Q @ Q.T"
   ]
  },
  {
   "cell_type": "code",
   "execution_count": 34,
   "id": "ae74d450-5bc7-4bbd-a8ac-79537b561133",
   "metadata": {},
   "outputs": [],
   "source": [
    "import torch\n",
    "\n",
    "def largest_singular_value(sparse_tensor, tolerance=1e-6, max_iterations=1000):\n",
    "    \"\"\"\n",
    "    Calculate the largest singular value of a sparse tensor using power iteration.\n",
    "    \n",
    "    Parameters:\n",
    "    sparse_tensor (torch.sparse_coo_tensor): Input sparse tensor.\n",
    "    tolerance (float): Desired error tolerance for convergence.\n",
    "    max_iterations (int): Maximum number of iterations to perform.\n",
    "    \n",
    "    Returns:\n",
    "    float: Approximation of the largest singular value.\n",
    "    \"\"\"\n",
    "    # Ensure the input is a sparse tensor\n",
    "    assert sparse_tensor.is_sparse, \"Input tensor must be sparse\"\n",
    "\n",
    "    # Initialize a random vector\n",
    "    N = sparse_tensor.size(1)\n",
    "    b_k = torch.randn(N, device=sparse_tensor.device)\n",
    "    b_k = b_k / torch.norm(b_k)  # Normalize the initial vector\n",
    "\n",
    "    # Power iteration method to find the largest singular value\n",
    "    singular_value_old = 0.0\n",
    "    for _ in range(max_iterations):\n",
    "        # Perform the matrix multiplication\n",
    "        b_k1 = torch.sparse.mm(sparse_tensor, b_k.view(-1, 1)).view(-1)\n",
    "        b_k1_norm = torch.norm(b_k1)\n",
    "        b_k1 = b_k1 / b_k1_norm\n",
    "\n",
    "        # Perform the matrix multiplication with the transpose\n",
    "        b_k = torch.sparse.mm(sparse_tensor.t(), b_k1.view(-1, 1)).view(-1)\n",
    "        b_k_norm = torch.norm(b_k)\n",
    "        b_k = b_k / b_k_norm\n",
    "\n",
    "        # Check for convergence\n",
    "        if torch.abs(b_k_norm - singular_value_old) < tolerance:\n",
    "            break\n",
    "        singular_value_old = b_k_norm\n",
    "\n",
    "    return b_k_norm.item()"
   ]
  },
  {
   "cell_type": "code",
   "execution_count": 35,
   "id": "7020c85f-a124-4452-8c12-03d0631cfa41",
   "metadata": {},
   "outputs": [
    {
     "data": {
      "text/plain": [
       "2050.413818359375"
      ]
     },
     "execution_count": 35,
     "metadata": {},
     "output_type": "execute_result"
    }
   ],
   "source": [
    "largest_singular_value(Q)"
   ]
  },
  {
   "cell_type": "code",
   "execution_count": 36,
   "id": "bb9fcb65-42fb-4d91-99b6-9c2dabe00ef4",
   "metadata": {},
   "outputs": [
    {
     "data": {
      "text/plain": [
       "2050.427978515625"
      ]
     },
     "execution_count": 36,
     "metadata": {},
     "output_type": "execute_result"
    }
   ],
   "source": [
    "largest_singular_value(Q.T)"
   ]
  },
  {
   "cell_type": "code",
   "execution_count": null,
   "id": "a9afa974-6b99-4d2d-b873-88795490c1a2",
   "metadata": {},
   "outputs": [],
   "source": []
  }
 ],
 "metadata": {
  "kernelspec": {
   "display_name": "Python 3 (ipykernel)",
   "language": "python",
   "name": "python3"
  },
  "language_info": {
   "codemirror_mode": {
    "name": "ipython",
    "version": 3
   },
   "file_extension": ".py",
   "mimetype": "text/x-python",
   "name": "python",
   "nbconvert_exporter": "python",
   "pygments_lexer": "ipython3",
   "version": "3.10.14"
  }
 },
 "nbformat": 4,
 "nbformat_minor": 5
}
