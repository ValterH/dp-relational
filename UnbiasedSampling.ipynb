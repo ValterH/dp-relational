{
  "nbformat": 4,
  "nbformat_minor": 0,
  "metadata": {
    "colab": {
      "provenance": []
    },
    "kernelspec": {
      "name": "python3",
      "display_name": "Python 3"
    },
    "language_info": {
      "name": "python"
    }
  },
  "cells": [
    {
      "cell_type": "code",
      "execution_count": 109,
      "metadata": {
        "id": "qobYBYYsyk6y"
      },
      "outputs": [],
      "source": [
        "import numpy as np\n",
        "def UBS(a, b, m):\n",
        "  if np.sum(b) != m or len(a) != len(b):\n",
        "    return False\n",
        "  out = np.zeros(m, int)\n",
        "  if m==1:\n",
        "    out[0] = np.random.choice(a=a,  p=b)\n",
        "    return out\n",
        "\n",
        "  c = 0\n",
        "  i = 0\n",
        "  while c < 2:\n",
        "    if c < 1 and c + b[i] >= 1:\n",
        "      i1 = i\n",
        "    c += b[i]\n",
        "    i2 = i\n",
        "    i += 1\n",
        "  p = np.zeros(i1+1)\n",
        "  p[:i1] = b[:i1]\n",
        "  p[i1]=1-np.sum(b[:i1])\n",
        "  out[0] = np.random.choice(a=a[:i1+1],  p=p)\n",
        "  b_new = np.zeros(len(b))\n",
        "  if out[0] != i1:\n",
        "    for i in range(i1):\n",
        "      b_new[i] = 0\n",
        "    b_new[i1] = (np.sum(b[:i1+1])-1)/np.sum(b[:i1])\n",
        "    for i in range(i1+1, i2):\n",
        "      b_new[i] = b[i] * (1-b[i1])/((2 - np.sum(b[:i1+1])) * np.sum(b[:i1]))\n",
        "    b_new[i2] = (np.sum(b[:i2+1]) - 2) + (2 - np.sum(b[:i2]))* (1-b[i1])/((2 - np.sum(b[:i1+1])) * np.sum(b[:i1]))\n",
        "    for i in range(i2+1, len(b)):\n",
        "      b_new[i] = b[i]\n",
        "    out[1:] = UBS(a[i1:], b_new[i1:], m-1)\n",
        "  if out[0] == i1:\n",
        "    for i in range(i1+1):\n",
        "      b_new[i] = 0\n",
        "    for i in range(i1+1, i2):\n",
        "      b_new[i] = b[i]/(2 - np.sum(b[:i1+1]))\n",
        "    b_new[i2] = (np.sum(b[:i2+1]) - 2) + (2 - np.sum(b[:i2]))/(2 - np.sum(b[:i1+1]))\n",
        "    for i in range(i2+1, len(b)):\n",
        "      b_new[i] = b[i]\n",
        "    out[1:] = UBS(a[i1+1:], b_new[i1+1:], m-1)\n",
        "    print(out)\n",
        "  return out"
      ]
    },
    {
      "cell_type": "code",
      "source": [
        "import numpy as np\n",
        "b = [0.3, 0.3, 0.5, 0.3, 0.4, 0.5, 0.7]\n",
        "a = [1, 2, 3, 4, 5, 6, 7]\n",
        "print(UBS(a, b, 3))"
      ],
      "metadata": {
        "colab": {
          "base_uri": "https://localhost:8080/"
        },
        "id": "95kivX7BzXUt",
        "outputId": "f8d486b3-a9c2-4071-a201-a21d26bba7c1"
      },
      "execution_count": 110,
      "outputs": [
        {
          "output_type": "stream",
          "name": "stdout",
          "text": [
            "[3 4 7]\n"
          ]
        }
      ]
    }
  ]
}