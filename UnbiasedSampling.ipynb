{
  "cells": [
    {
      "cell_type": "code",
      "execution_count": 5,
      "metadata": {
        "id": "qobYBYYsyk6y"
      },
      "outputs": [],
      "source": [
        "import numpy as np\n",
        "def UBS(b, m):\n",
        "  N = len(b)\n",
        "  if np.abs(np.sum(b) - m) > 1e-10:\n",
        "    return False\n",
        "  out = np.zeros(m, int)\n",
        "  if m==1:\n",
        "    out[0] = np.random.choice(a=range(N),  p=b)\n",
        "    #print(out[0])\n",
        "    return out\n",
        "\n",
        "  c = 0\n",
        "  i = 0\n",
        "  while c < 2:\n",
        "    if c < 1 and c + b[i] >= 1:\n",
        "      i1 = i\n",
        "    c += b[i]\n",
        "    i2 = i\n",
        "    i += 1\n",
        "  p = np.zeros(i1+1)\n",
        "  p[:i1] = b[:i1]\n",
        "  p[i1]= 1-np.sum(b[:i1])\n",
        "  out[0] = np.random.choice(a=range(i1+1),  p=p)\n",
        "  b_new = np.zeros(N)\n",
        "  #print(out[0])\n",
        "  if out[0] != i1:\n",
        "    for i in range(i1):\n",
        "      b_new[i] = 0\n",
        "    b_new[i1] = (np.sum(b[:i1+1])-1)/np.sum(b[:i1])\n",
        "    for i in range(i1+1, i2):\n",
        "      b_new[i] = b[i] * (1-b[i1])/((2 - np.sum(b[:i1+1])) * np.sum(b[:i1]))\n",
        "    b_new[i2] = (np.sum(b[:i2+1]) - 2) + (2 - np.sum(b[:i2]))* (1-b[i1])/((2 - np.sum(b[:i1+1])) * np.sum(b[:i1]))\n",
        "    for i in range(i2+1, len(b)):\n",
        "      b_new[i] = b[i]\n",
        "    #print(\"case 1\", a[i1:], b_new[i1:])\n",
        "    b_new = b_new/sum(b_new)*(m-1)\n",
        "    out[1:] = UBS(b_new, m-1)\n",
        "  if out[0] == i1:\n",
        "    for i in range(i1+1):\n",
        "      b_new[i] = 0\n",
        "    for i in range(i1+1, i2):\n",
        "      b_new[i] = b[i]/(2 - np.sum(b[:i1+1]))\n",
        "    b_new[i2] = (np.sum(b[:i2+1]) - 2) + (2 - np.sum(b[:i2]))/(2 - np.sum(b[:i1+1]))\n",
        "    for i in range(i2+1, len(b)):\n",
        "      b_new[i] = b[i]\n",
        "    #print(\"case 2\", b_new)\n",
        "    b_new = b_new/sum(b_new)*(m-1)\n",
        "    out[1:] = UBS(b_new, m-1)\n",
        "  return out"
      ]
    },
    {
      "cell_type": "code",
      "execution_count": 129,
      "metadata": {},
      "outputs": [],
      "source": [
        "def UBS2(b, m):\n",
        "    # nudge for finite precision errors\n",
        "    b[-1] = m - (np.sum(b) - b[-1])\n",
        "    if m == 0:\n",
        "        return np.zeros(b.shape, dtype=np.int_)\n",
        "    if m == 1:\n",
        "        res = np.zeros(b.shape, dtype=np.int_)\n",
        "        res[np.searchsorted(np.cumsum(b), np.random.rand())] = 1\n",
        "        return res\n",
        "    \"\"\" Inputs a vector of probabilities b, and outputs a one-hot vector indicating which were selected \"\"\"\n",
        "    if len(b) == m: # all are ones\n",
        "        return np.ones(b.shape)\n",
        "    \n",
        "    b_cumsum = np.cumsum(b)\n",
        "    indexes = [0]\n",
        "    prev_val = 0\n",
        "    while indexes[-1] != len(b):\n",
        "        next_idx = np.searchsorted(b_cumsum, prev_val + 1, side='right') - 1\n",
        "        indexes.append(next_idx + 1)\n",
        "        prev_val = b_cumsum[next_idx]\n",
        "        \n",
        "    #print(b, m, indexes)\n",
        "    indexes = np.array(indexes)\n",
        "    \n",
        "    # we now have a list of indices to sample from\n",
        "    # get their sizes and choose the one to exclude\n",
        "    item_sizes = indexes[1:] - indexes[:-1]\n",
        "    prob_sizes = b_cumsum[indexes[1:] - 1]\n",
        "    prob_sizes[1:] -= b_cumsum[indexes[1:-1] - 1]\n",
        "    p_sizes_cumsum = np.cumsum(prob_sizes)\n",
        "    \n",
        "    # parallelized sampling\n",
        "    samples = np.random.rand(*prob_sizes.shape) * prob_sizes\n",
        "    samples[1:] += p_sizes_cumsum[:-1]\n",
        "    indexes_sampled = np.searchsorted(b_cumsum, samples)\n",
        "    \n",
        "    result = np.zeros(b.shape, dtype=np.int_)\n",
        "    result[indexes_sampled] = 1\n",
        "    # now go and delete some of them\n",
        "    deletion_probs = 1 - prob_sizes\n",
        "    \n",
        "    num_to_delete = len(prob_sizes) - m\n",
        "    deleted_indices = np.nonzero(UBS2(deletion_probs, num_to_delete))[0]\n",
        "    #print(\"delind\", deleted_indices)\n",
        "    result[indexes_sampled[deleted_indices]] = 0\n",
        "    # print(b, m, \"res\", result)\n",
        "    return result"
      ]
    },
    {
      "cell_type": "markdown",
      "metadata": {},
      "source": []
    },
    {
      "cell_type": "code",
      "execution_count": 62,
      "metadata": {
        "colab": {
          "base_uri": "https://localhost:8080/"
        },
        "id": "95kivX7BzXUt",
        "outputId": "f8d486b3-a9c2-4071-a201-a21d26bba7c1"
      },
      "outputs": [
        {
          "name": "stdout",
          "output_type": "stream",
          "text": [
            "[2 3 6]\n"
          ]
        }
      ],
      "source": [
        "import numpy as np\n",
        "b = [0.3, 0.3, 0.5, 0.3, 0.4, 0.5, 0.7]\n",
        "a = [1, 2, 3, 4, 5, 6, 7]\n",
        "print(UBS(b, 3))"
      ]
    },
    {
      "cell_type": "code",
      "execution_count": 126,
      "metadata": {},
      "outputs": [
        {
          "name": "stdout",
          "output_type": "stream",
          "text": [
            "3.9999999999999996\n"
          ]
        },
        {
          "name": "stderr",
          "output_type": "stream",
          "text": [
            "100%|██████████| 100000/100000 [00:16<00:00, 6040.73it/s]"
          ]
        },
        {
          "name": "stdout",
          "output_type": "stream",
          "text": [
            "[0.59972 0.60081 0.598   0.60102 0.30072 0.40027 0.49995 0.39951 0.     ]\n"
          ]
        },
        {
          "name": "stderr",
          "output_type": "stream",
          "text": [
            "\n"
          ]
        }
      ],
      "source": [
        "import numpy as np\n",
        "from tqdm import tqdm\n",
        "b = [0.6, 0.6, 0.6, 0.6, 0.3, 0.4, 0.5, 0.4]\n",
        "print(sum(b))\n",
        "b_np = np.array(b)\n",
        "a = [1, 2, 3, 4, 5, 6, 7]\n",
        "\n",
        "m = 4\n",
        "# ubs sampling verification\n",
        "n_iters = 100000\n",
        "res_total = np.zeros((len(b) + 1, ))\n",
        "for n in tqdm(range(n_iters)):\n",
        "    selected = np.array(UBS(b, m))\n",
        "    # print(selected)\n",
        "    res_total[selected] += 1\n",
        "print(res_total / n_iters)"
      ]
    },
    {
      "cell_type": "code",
      "execution_count": 131,
      "metadata": {},
      "outputs": [
        {
          "name": "stderr",
          "output_type": "stream",
          "text": [
            "100%|██████████| 100000/100000 [00:05<00:00, 16759.57it/s]"
          ]
        },
        {
          "name": "stdout",
          "output_type": "stream",
          "text": [
            "[0.59755 0.60134 0.60385 0.60023 0.29791 0.40034 0.49955 0.39923 0.     ]\n"
          ]
        },
        {
          "name": "stderr",
          "output_type": "stream",
          "text": [
            "\n"
          ]
        }
      ],
      "source": [
        "n_iters = 100000\n",
        "res_total = np.zeros((len(b) + 1, ))\n",
        "for n in tqdm(range(n_iters)):\n",
        "    res_total[:-1] += UBS2(b_np, m)\n",
        "print(res_total / n_iters)"
      ]
    },
    {
      "cell_type": "markdown",
      "metadata": {},
      "source": [
        "Speed test"
      ]
    },
    {
      "cell_type": "code",
      "execution_count": 132,
      "metadata": {},
      "outputs": [
        {
          "name": "stdout",
          "output_type": "stream",
          "text": [
            "999.9999999999999\n"
          ]
        },
        {
          "name": "stderr",
          "output_type": "stream",
          "text": [
            "100%|██████████| 10000/10000 [00:40<00:00, 249.31it/s]"
          ]
        },
        {
          "name": "stdout",
          "output_type": "stream",
          "text": [
            "[0.0099 0.0023 0.0133 ... 0.0033 0.0116 0.    ]\n"
          ]
        },
        {
          "name": "stderr",
          "output_type": "stream",
          "text": [
            "\n"
          ]
        }
      ],
      "source": [
        "cross_slice_size = 100000\n",
        "m = 1000\n",
        "b = np.random.rand(cross_slice_size)\n",
        "b /= np.sum(b)\n",
        "b *= m\n",
        "\n",
        "print(np.sum(b))\n",
        "\n",
        "n_iters = 10000\n",
        "res_total = np.zeros((len(b) + 1, ))\n",
        "for n in tqdm(range(n_iters)):\n",
        "    res_total[:-1] += UBS2(b, m)\n",
        "print(res_total / n_iters)"
      ]
    },
    {
      "cell_type": "code",
      "execution_count": 59,
      "metadata": {},
      "outputs": [
        {
          "name": "stdout",
          "output_type": "stream",
          "text": [
            "[0.00815032 0.01088085 0.01494401 ... 0.01102186 0.00696576 0.00370234]\n",
            "[ 0.00024968  0.00041915  0.00105599 ... -0.00922186 -0.00606576\n",
            " -0.00350234]\n"
          ]
        }
      ],
      "source": [
        "print(b)\n",
        "print((res_total[:-1]/ n_iters) - b)"
      ]
    },
    {
      "cell_type": "code",
      "execution_count": 16,
      "metadata": {},
      "outputs": [],
      "source": [
        "b = np.array(b)\n",
        "b_cumsum = np.cumsum(b)\n",
        "b_edges = np.ceil(b_cumsum)"
      ]
    },
    {
      "cell_type": "code",
      "execution_count": 111,
      "metadata": {},
      "outputs": [
        {
          "name": "stdout",
          "output_type": "stream",
          "text": [
            "[0.3 0.3 0.5 0.3 0.4 0.5 0.7] 3 [0, 2, 4, 6, 7]\n",
            "delind [3]\n"
          ]
        },
        {
          "data": {
            "text/plain": [
              "array([1, 0, 1, 0, 1, 0, 0])"
            ]
          },
          "execution_count": 111,
          "metadata": {},
          "output_type": "execute_result"
        }
      ],
      "source": [
        "UBS2(np.array(b), 3)"
      ]
    },
    {
      "cell_type": "code",
      "execution_count": 140,
      "metadata": {},
      "outputs": [],
      "source": [
        "import torch\n",
        "@torch.no_grad()\n",
        "def unbiased_sample_torch(b, m, device=\"cpu\"):\n",
        "    b[-1] = m - (torch.sum(b) - b[-1])\n",
        "    \n",
        "    if m == 0:\n",
        "        return torch.zeros(*b.shape, dtype=torch.int, device=device)\n",
        "    if m == 1:\n",
        "        idx = torch.multinomial(b, 1)\n",
        "        res = torch.zeros(*b.shape, dtype=torch.int, device=device)\n",
        "        res[idx[0]] = 1\n",
        "        return res\n",
        "    \"\"\" Inputs a vector of probabilities b, and outputs a one-hot vector indicating which were selected \"\"\"\n",
        "    if len(b) == m: # all are ones\n",
        "        return torch.ones(*b.shape, dtype=torch.int, device=device)\n",
        "    \n",
        "    b_cumsum = torch.cumsum(b, dim=0)\n",
        "    indexes = [0]\n",
        "    prev_val = 0\n",
        "    while indexes[-1] != len(b):\n",
        "        next_idx = torch.searchsorted(b_cumsum, prev_val + 1, side='right') - 1\n",
        "        indexes.append(next_idx + 1)\n",
        "        prev_val = b_cumsum[next_idx]\n",
        "        \n",
        "    #print(b, m, indexes)\n",
        "    indexes = torch.tensor(indexes, dtype=int, device=device)\n",
        "    \n",
        "    # we now have a list of indices to sample from\n",
        "    # get their sizes and choose the one to exclude\n",
        "    item_sizes = indexes[1:] - indexes[:-1]\n",
        "    prob_sizes = b_cumsum[indexes[1:] - 1]\n",
        "    prob_sizes[1:] -= b_cumsum[indexes[1:-1] - 1]\n",
        "    p_sizes_cumsum = torch.cumsum(prob_sizes, dim=0)\n",
        "    \n",
        "    # parallelized sampling\n",
        "    samples = torch.rand(*prob_sizes.shape) * prob_sizes\n",
        "    samples[1:] += p_sizes_cumsum[:-1]\n",
        "    indexes_sampled = torch.searchsorted(b_cumsum, samples)\n",
        "    \n",
        "    result = torch.zeros(*b.shape, dtype=torch.int, device=device)\n",
        "    result[indexes_sampled] = 1\n",
        "    # now go and delete some of them\n",
        "    deletion_probs = 1 - prob_sizes\n",
        "    \n",
        "    num_to_delete = len(prob_sizes) - m\n",
        "    deleted_indices = torch.nonzero(unbiased_sample_torch(deletion_probs, num_to_delete), as_tuple=True)[0]\n",
        "    #print(\"delind\", deleted_indices)\n",
        "    result[indexes_sampled[deleted_indices]] = 0\n",
        "    # print(b, m, \"res\", result)\n",
        "    return result"
      ]
    },
    {
      "cell_type": "code",
      "execution_count": 141,
      "metadata": {},
      "outputs": [
        {
          "data": {
            "text/plain": [
              "tensor(4.)"
            ]
          },
          "execution_count": 141,
          "metadata": {},
          "output_type": "execute_result"
        }
      ],
      "source": [
        "b = torch.Tensor([0.6, 0.6, 0.6, 0.6, 0.3, 0.4, 0.5, 0.4])\n",
        "torch.sum(b)"
      ]
    },
    {
      "cell_type": "code",
      "execution_count": 147,
      "metadata": {},
      "outputs": [
        {
          "data": {
            "text/plain": [
              "tensor([1, 0, 0, 1, 0, 0, 1, 1], dtype=torch.int32)"
            ]
          },
          "execution_count": 147,
          "metadata": {},
          "output_type": "execute_result"
        }
      ],
      "source": [
        "m = 4\n",
        "unbiased_sample_torch(b, m)"
      ]
    },
    {
      "cell_type": "code",
      "execution_count": 149,
      "metadata": {},
      "outputs": [
        {
          "name": "stderr",
          "output_type": "stream",
          "text": [
            "100%|██████████| 10000/10000 [00:10<00:00, 935.76it/s]"
          ]
        },
        {
          "name": "stdout",
          "output_type": "stream",
          "text": [
            "tensor([0.6013, 0.5932, 0.5968, 0.6022, 0.3003, 0.4034, 0.5006, 0.4022])\n"
          ]
        },
        {
          "name": "stderr",
          "output_type": "stream",
          "text": [
            "\n"
          ]
        }
      ],
      "source": [
        "n_iters = 10000\n",
        "res_total = torch.zeros(b.shape)\n",
        "for n in tqdm(range(n_iters)):\n",
        "    sample = unbiased_sample_torch(b, m)\n",
        "    if (torch.sum(sample).numpy() != 4):\n",
        "        print(\"AAAAA\")\n",
        "    res_total += unbiased_sample_torch(b, m)\n",
        "print(res_total / n_iters)"
      ]
    }
  ],
  "metadata": {
    "colab": {
      "provenance": []
    },
    "kernelspec": {
      "display_name": "Python 3",
      "name": "python3"
    },
    "language_info": {
      "codemirror_mode": {
        "name": "ipython",
        "version": 3
      },
      "file_extension": ".py",
      "mimetype": "text/x-python",
      "name": "python",
      "nbconvert_exporter": "python",
      "pygments_lexer": "ipython3",
      "version": "3.8.0"
    }
  },
  "nbformat": 4,
  "nbformat_minor": 0
}
